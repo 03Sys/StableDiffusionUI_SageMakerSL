{
 "cells": [
  {
   "cell_type": "markdown",
   "metadata": {},
   "source": [
    "# Stable Diffusion WebUI (Automatic1111) for SageMaker Studio Lab"
   ]
  },
  {
   "cell_type": "markdown",
   "metadata": {
    "id": "OHCtG9MT0jLq"
   },
   "source": [
    "# Installation: Install ngrok reverse proxy\n",
    "because creating a public gradio link doesn't work on SageMaker Studio Lab (at least not when I tried)\n",
    "\n",
    "***You only need to do this once on your SageMaker SL account***\n",
    "\n",
    "You will need a ngrok auth token later. If you don't have a ngrok account yet, create one here: https://dashboard.ngrok.com/signup\n",
    "\n",
    "It's free for non-commercial use"
   ]
  },
  {
   "cell_type": "code",
   "execution_count": null,
   "metadata": {},
   "outputs": [],
   "source": [
    "!mkdir -p ~/sagemaker-studiolab-notebooks/ngrok\n",
    "%cd ~/sagemaker-studiolab-notebooks/ngrok\n",
    "!wget https://bin.equinox.io/c/bNyj1mQVY4c/ngrok-v3-stable-linux-amd64.tgz -O ~/sagemaker-studiolab-notebooks/ngrok/ngrok.tgz\n",
    "!tar zxf ngrok.tgz\n",
    "!rm ngrok.tgz\n",
    "!rm -rf ~/.config/ngrok\n",
    "!mkdir -p ~/.config/ngrok\n",
    "!echo 'version: \"2\"\\nconsole_ui: false' >~/.config/ngrok/ngrok.yml "
   ]
  },
  {
   "cell_type": "markdown",
   "metadata": {
    "id": "OHCtG9MT0jLq"
   },
   "source": [
    "# Installation: Clone webui repository\n",
    "***You only need to do this once on your SageMaker SL account***"
   ]
  },
  {
   "cell_type": "code",
   "execution_count": null,
   "metadata": {
    "id": "sBbcB4vwj_jm"
   },
   "outputs": [],
   "source": [
    "%cd ~/sagemaker-studiolab-notebooks/\n",
    "!git clone https://github.com/AUTOMATIC1111/stable-diffusion-webui"
   ]
  },
  {
   "cell_type": "markdown",
   "metadata": {
    "id": "F0EINk5M0s-w"
   },
   "source": [
    "# Installation: Download model(s) from huggingface\n",
    "***You only need to do this once on your SageMaker SL account***\n",
    "\n",
    "Alternatively you can use the JupyterLab file browser to upload one or more .ckpt files to the ~/sagemaker-studiolab-notebooks/stable-diffusion-webui/models/Stable-diffusion/ folder"
   ]
  },
  {
   "cell_type": "markdown",
   "metadata": {},
   "source": [
    "#### Check free disk space"
   ]
  },
  {
   "cell_type": "code",
   "execution_count": null,
   "metadata": {},
   "outputs": [],
   "source": [
    "!df -h | grep -E 'Avail|home'"
   ]
  },
  {
   "cell_type": "markdown",
   "metadata": {},
   "source": [
    "#### Huggingface token"
   ]
  },
  {
   "cell_type": "code",
   "execution_count": null,
   "metadata": {},
   "outputs": [],
   "source": [
    "import ipywidgets as widgets\n",
    "\n",
    "token_textbox = widgets.Text(\n",
    "    value='Enter Huggingface token here',\n",
    "    description='Token:',\n",
    ")\n",
    "token_textbox"
   ]
  },
  {
   "cell_type": "markdown",
   "metadata": {},
   "source": [
    "### Download model(s)\n",
    "The next cell will download model ***v1-5-pruned-emaonly.ckpt*** (4GB) \n",
    "\n",
    "This model can be used for training textual inversion embeddings and hypernetworks\n",
    "\n",
    "Comment out and uncomment lines in the next cell to download different models\n",
    "\n",
    "Go to these pages and ***accept the licenses*** before running the next cell:\n",
    "\n",
    "https://huggingface.co/runwayml/stable-diffusion-v1-5\n",
    "\n",
    "https://huggingface.co/CompVis/stable-diffusion-v-1-4-original\n",
    "\n",
    "https://huggingface.co/runwayml/stable-diffusion-inpainting"
   ]
  },
  {
   "cell_type": "code",
   "execution_count": null,
   "metadata": {
    "id": "CT_J9L7oqLxG"
   },
   "outputs": [],
   "source": [
    "user_header = f\"\\\"Authorization: Bearer {token_textbox.value}\\\"\"\n",
    "%cd ~/sagemaker-studiolab-notebooks/stable-diffusion-webui/models/Stable-diffusion/\n",
    "\n",
    "# Model 1.4\n",
    "#!wget --header={user_header} https://huggingface.co/CompVis/stable-diffusion-v-1-4-original/resolve/main/sd-v1-4.ckpt\n",
    "\n",
    "# Model 1.5 (8GB) - only necessary for native training, not for embeddings/hypernetworks\n",
    "#!wget --header={user_header} https://huggingface.co/runwayml/stable-diffusion-v1-5/resolve/main/v1-5-pruned.ckpt \n",
    "\n",
    "# Model 1.5 (4GB)\n",
    "!wget --header={user_header} https://huggingface.co/runwayml/stable-diffusion-v1-5/resolve/main/v1-5-pruned-emaonly.ckpt \n",
    "\n",
    "# Inpainting model 1.5 (4GB)\n",
    "#!wget --header={user_header} https://huggingface.co/runwayml/stable-diffusion-inpainting/resolve/main/sd-v1-5-inpainting.ckpt"
   ]
  },
  {
   "cell_type": "markdown",
   "metadata": {},
   "source": [
    "### Download variational autoencoder (VAE)\n",
    "\n",
    "Doing so can improve the quality of generated images, if you select the VAE in the webui settings\n",
    "\n",
    "Go to these pages and ***accept the licenses*** before running the next cell:\n",
    "\n",
    "https://huggingface.co/stabilityai/sd-vae-ft-ema-original\n",
    "\n",
    "https://huggingface.co/stabilityai/sd-vae-ft-mse-original"
   ]
  },
  {
   "cell_type": "code",
   "execution_count": null,
   "metadata": {},
   "outputs": [],
   "source": [
    "%cd ~/sagemaker-studiolab-notebooks/stable-diffusion-webui/models/VAE/\n",
    "\n",
    "# sd-vae-ft-ema-original\n",
    "#!wget --header={user_header} https://huggingface.co/stabilityai/sd-vae-ft-ema-original/blob/main/vae-ft-ema-560000-ema-pruned.ckpt\n",
    "\n",
    "# sd-vae-ft-mse-original\n",
    "!wget --header={user_header} https://huggingface.co/stabilityai/sd-vae-ft-mse-original/blob/main/vae-ft-mse-840000-ema-pruned.ckpt"
   ]
  },
  {
   "cell_type": "markdown",
   "metadata": {},
   "source": [
    "# Installation: Uninstall opencv-python to avoid error when starting webui\n",
    "\n",
    "***You only need to do this once on your SageMaker SL account***"
   ]
  },
  {
   "cell_type": "code",
   "execution_count": null,
   "metadata": {},
   "outputs": [],
   "source": [
    "%pip uninstall opencv-python -y\n",
    "#%pip install opencv-python-headless"
   ]
  },
  {
   "cell_type": "code",
   "execution_count": null,
   "metadata": {},
   "outputs": [],
   "source": [
    "#%pip uninstall opencv-python-headless "
   ]
  },
  {
   "cell_type": "markdown",
   "metadata": {},
   "source": [
    "# Setup: Add ngrok auth token\n",
    "\n",
    "***You only need to do this once***, unless you change your ngrok auth token"
   ]
  },
  {
   "cell_type": "code",
   "execution_count": null,
   "metadata": {},
   "outputs": [],
   "source": [
    "import ipywidgets as widgets\n",
    "\n",
    "ngrok_token_textbox = widgets.Text(\n",
    "    value='Enter ngrok auth token here',\n",
    "    description='Token:',\n",
    ")\n",
    "ngrok_token_textbox"
   ]
  },
  {
   "cell_type": "code",
   "execution_count": null,
   "metadata": {},
   "outputs": [],
   "source": [
    "ngrok_auth_token = ngrok_token_textbox.value\n",
    "!~/sagemaker-studiolab-notebooks/ngrok/ngrok config add-authtoken $ngrok_auth_token"
   ]
  },
  {
   "cell_type": "markdown",
   "metadata": {
    "tags": []
   },
   "source": [
    "# Run: Launch ngrok before launching webui\n"
   ]
  },
  {
   "cell_type": "code",
   "execution_count": null,
   "metadata": {},
   "outputs": [],
   "source": [
    "# start ngrok as background process\n",
    "import multiprocessing\n",
    "\n",
    "def run_ngrok_bg():\n",
    "    !~/sagemaker-studiolab-notebooks/ngrok/ngrok tcp 7860 --log=stdout > ~/sagemaker-studiolab-notebooks/ngrok/ngrok.log\n",
    "    \n",
    "multiprocessing.Process(target=run_ngrok_bg).start()\n"
   ]
  },
  {
   "cell_type": "markdown",
   "metadata": {},
   "source": [
    "### Run next cell to see the public ngrok URL, replace tcp:// with http://"
   ]
  },
  {
   "cell_type": "code",
   "execution_count": null,
   "metadata": {},
   "outputs": [],
   "source": [
    "!tail ~/sagemaker-studiolab-notebooks/ngrok/ngrok.log"
   ]
  },
  {
   "cell_type": "markdown",
   "metadata": {
    "id": "v2kY0Z05DwIN",
    "tags": []
   },
   "source": [
    "# Installation: Install webui requirements.txt\n",
    "I don't think this is necessary, but it doesn't hurt"
   ]
  },
  {
   "cell_type": "code",
   "execution_count": null,
   "metadata": {
    "id": "IB19TzabDtYF"
   },
   "outputs": [],
   "source": [
    "%cd ~/sagemaker-studiolab-notebooks/stable-diffusion-webui\n",
    "!COMMANDLINE_ARGS=\"--exit\" REQS_FILE=\"requirements.txt\" python launch.py"
   ]
  },
  {
   "cell_type": "markdown",
   "metadata": {
    "id": "S8nvm5f6AfaL"
   },
   "source": [
    "# Run: Change into Web UI directory and download updates\n",
    "This is not strictly necessary"
   ]
  },
  {
   "cell_type": "code",
   "execution_count": null,
   "metadata": {},
   "outputs": [],
   "source": [
    "%cd ~/sagemaker-studiolab-notebooks/stable-diffusion-webui\n",
    "!git pull"
   ]
  },
  {
   "cell_type": "markdown",
   "metadata": {
    "id": "xt8lbdmC04ox"
   },
   "source": [
    "# Run: Launch web ui\n",
    "\n",
    "Commandline arguments are:\n",
    "  - `--share` - create online gradio.app link (this doesn't work on SageMaker SL)\n",
    "  - `--gradio-debug` - print outputs to console\n",
    "  - `--gradio-auth me:qwerty` - add authentication to gradio: username me, password qwerty\n",
    "  \n",
    "Change username and password in the next cell for ***security reasons***"
   ]
  },
  {
   "cell_type": "code",
   "execution_count": null,
   "metadata": {
    "id": "R-xAdMA5wxXd"
   },
   "outputs": [],
   "source": [
    "##################################\n",
    "\n",
    "WEBUI_USERNAME=\"genius\"\n",
    "WEBUI_PASSWORD=\"artist\"\n",
    "\n",
    "##################################\n",
    "\n",
    "ARGS = \"\\\"--gradio-debug --gradio-auth \" + WEBUI_USERNAME + \":\" + WEBUI_PASSWORD + \"\\\"\"\n",
    "\n",
    "!echo $ARGS\n",
    "\n",
    "%cd ~/sagemaker-studiolab-notebooks/stable-diffusion-webui\n",
    "!COMMANDLINE_ARGS=$ARGS REQS_FILE=\"requirements.txt\" python launch.py\n"
   ]
  },
  {
   "cell_type": "markdown",
   "metadata": {
    "id": "9qrpRUJpno7L",
    "tags": []
   },
   "source": [
    "End: Commands for ***after*** you have gotten done with a session\n",
    "============================================================================"
   ]
  },
  {
   "cell_type": "markdown",
   "metadata": {
    "id": "zB-L8JpElKp-"
   },
   "source": [
    "### Create .tar.gz archive of images for downloading \n",
    "\n",
    "Location will be ***~/sagemaker-studiolab-notebooks/outputs.tar.gz***"
   ]
  },
  {
   "cell_type": "code",
   "execution_count": null,
   "metadata": {},
   "outputs": [],
   "source": [
    "%cd ~/sagemaker-studiolab-notebooks/stable-diffusion-webui/\n",
    "!echo \"Creating archive. Please wait...\"\n",
    "!tar -czf ~/sagemaker-studiolab-notebooks/outputs.tar.gz outputs\n",
    "!echo \"You can now delete the generated images and download the archive\""
   ]
  },
  {
   "cell_type": "markdown",
   "metadata": {
    "id": "zB-L8JpElKp-"
   },
   "source": [
    "### Delete generated images from outputs folder"
   ]
  },
  {
   "cell_type": "code",
   "execution_count": null,
   "metadata": {},
   "outputs": [],
   "source": [
    "!rm -rf ~/sagemaker-studiolab-notebooks/stable-diffusion-webui/outputs/*"
   ]
  },
  {
   "cell_type": "markdown",
   "metadata": {
    "id": "zB-L8JpElKp-"
   },
   "source": [
    "### Restart kernel and delete logfile (this kills webui and ngrok)"
   ]
  },
  {
   "cell_type": "code",
   "execution_count": null,
   "metadata": {},
   "outputs": [],
   "source": [
    "!rm ~/sagemaker-studiolab-notebooks/ngrok/ngrok.log\n",
    "exit()"
   ]
  }
 ],
 "metadata": {
  "accelerator": "GPU",
  "colab": {
   "collapsed_sections": [
    "9qrpRUJpno7L"
   ],
   "provenance": []
  },
  "gpuClass": "standard",
  "kernelspec": {
   "display_name": "default:Python",
   "language": "python",
   "name": "conda-env-default-py"
  },
  "language_info": {
   "codemirror_mode": {
    "name": "ipython",
    "version": 3
   },
   "file_extension": ".py",
   "mimetype": "text/x-python",
   "name": "python",
   "nbconvert_exporter": "python",
   "pygments_lexer": "ipython3",
   "version": "3.9.13"
  }
 },
 "nbformat": 4,
 "nbformat_minor": 4
}
