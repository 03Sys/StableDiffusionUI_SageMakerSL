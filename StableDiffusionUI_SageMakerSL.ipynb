{
 "cells": [
  {
   "cell_type": "markdown",
   "metadata": {},
   "source": [
    "# Stable Diffusion WebUI (Automatic1111) for SageMaker Studio Lab\n",
    "\n",
    "You will need a ngrok auth token to run it, as gradio doesn't work on SageMaker Studio Lab\n",
    "\n",
    "If you don't have a ngrok account yet, create one here: https://dashboard.ngrok.com/signup\n",
    "\n",
    "It's free for non-commercial use"
   ]
  },
  {
   "cell_type": "markdown",
   "metadata": {
    "id": "OHCtG9MT0jLq"
   },
   "source": [
    "# Installation: Clone webui repository\n",
    "***You only need to do this once on your SageMaker SL account***"
   ]
  },
  {
   "cell_type": "code",
   "execution_count": null,
   "metadata": {
    "id": "sBbcB4vwj_jm"
   },
   "outputs": [],
   "source": [
    "%cd ~/sagemaker-studiolab-notebooks/\n",
    "!git clone https://github.com/AUTOMATIC1111/stable-diffusion-webui"
   ]
  },
  {
   "cell_type": "markdown",
   "metadata": {
    "id": "F0EINk5M0s-w"
   },
   "source": [
    "# Installation: Download model(s) from huggingface\n",
    "***You only need to do this once on your SageMaker SL account***\n",
    "\n",
    "Alternatively you can use the JupyterLab file browser to upload one or more .ckpt files to the ~/sagemaker-studiolab-notebooks/stable-diffusion-webui/models/Stable-diffusion/ folder"
   ]
  },
  {
   "cell_type": "markdown",
   "metadata": {
    "tags": []
   },
   "source": [
    "### Download model(s)\n"
   ]
  },
  {
   "cell_type": "markdown",
   "metadata": {},
   "source": [
    "#### Check free disk space"
   ]
  },
  {
   "cell_type": "code",
   "execution_count": null,
   "metadata": {},
   "outputs": [],
   "source": [
    "!df -h | grep -E 'Avail|home'"
   ]
  },
  {
   "cell_type": "markdown",
   "metadata": {},
   "source": [
    "#### Huggingface token"
   ]
  },
  {
   "cell_type": "code",
   "execution_count": null,
   "metadata": {
    "tags": []
   },
   "outputs": [],
   "source": [
    "import ipywidgets as widgets\n",
    "\n",
    "token_textbox = widgets.Text(\n",
    "    value='Enter Huggingface token here',\n",
    "    description='Token:',\n",
    ")\n",
    "token_textbox"
   ]
  },
  {
   "cell_type": "markdown",
   "metadata": {},
   "source": [
    "The next cell will download model ***v1-5-pruned-emaonly.ckpt*** (4GB) \n",
    "\n",
    "This model can be used for training textual inversion embeddings and hypernetworks\n",
    "\n",
    "Comment out and uncomment lines in the next cell to download different models\n",
    "\n",
    "Go to these pages and ***accept the licenses*** before running the next cell:\n",
    "\n",
    "https://huggingface.co/runwayml/stable-diffusion-v1-5\n",
    "\n",
    "https://huggingface.co/CompVis/stable-diffusion-v-1-4-original\n",
    "\n",
    "https://huggingface.co/runwayml/stable-diffusion-inpainting"
   ]
  },
  {
   "cell_type": "code",
   "execution_count": null,
   "metadata": {
    "id": "CT_J9L7oqLxG",
    "tags": []
   },
   "outputs": [],
   "source": [
    "user_header = f\"\\\"Authorization: Bearer {token_textbox.value}\\\"\"\n",
    "%cd ~/sagemaker-studiolab-notebooks/stable-diffusion-webui/models/Stable-diffusion/\n",
    "\n",
    "# Model 1.4\n",
    "#!wget --header={user_header} https://huggingface.co/CompVis/stable-diffusion-v-1-4-original/resolve/main/sd-v1-4.ckpt\n",
    "\n",
    "# Model 1.5 (8GB) - only necessary for native training, not for embeddings/hypernetworks\n",
    "#!wget --header={user_header} https://huggingface.co/runwayml/stable-diffusion-v1-5/resolve/main/v1-5-pruned.ckpt \n",
    "\n",
    "# Model 1.5 (4GB)\n",
    "!wget --header={user_header} https://huggingface.co/runwayml/stable-diffusion-v1-5/resolve/main/v1-5-pruned-emaonly.ckpt \n",
    "\n",
    "# Inpainting model 1.5 (4GB)\n",
    "#!wget --header={user_header} https://huggingface.co/runwayml/stable-diffusion-inpainting/resolve/main/sd-v1-5-inpainting.ckpt"
   ]
  },
  {
   "cell_type": "markdown",
   "metadata": {},
   "source": [
    "### Optional: Download variational autoencoder (VAE)\n",
    "\n",
    "Doing so can improve the quality of generated images, if you select the VAE in the webui settings\n",
    "\n",
    "Go to these pages and ***accept the licenses*** before running the next cell:\n",
    "\n",
    "https://huggingface.co/stabilityai/sd-vae-ft-ema-original\n",
    "\n",
    "https://huggingface.co/stabilityai/sd-vae-ft-mse-original"
   ]
  },
  {
   "cell_type": "code",
   "execution_count": null,
   "metadata": {},
   "outputs": [],
   "source": [
    "# sd-vae-ft-ema-original\n",
    "#%cd ~/sagemaker-studiolab-notebooks/stable-diffusion-webui/models/VAE/\n",
    "#!wget --header={user_header} https://huggingface.co/stabilityai/sd-vae-ft-ema-original/resolve/main/vae-ft-ema-560000-ema-pruned.ckpt\n",
    "\n",
    "# sd-vae-ft-mse-original\n",
    "#%cd ~/sagemaker-studiolab-notebooks/stable-diffusion-webui/models/VAE/\n",
    "#!wget --header={user_header} https://huggingface.co/stabilityai/sd-vae-ft-mse-original/resolve/main/vae-ft-mse-840000-ema-pruned.ckpt\n",
    "\n",
    "# sd-vae-ft-mse-original\n",
    "# Use this if you downloaded v1-5-pruned-emaonly.ckpt above and want to autoselect the VAE every time you load this model in the webui\n",
    "%cd ~/sagemaker-studiolab-notebooks/stable-diffusion-webui/models/Stable-diffusion/\n",
    "!wget --header={user_header} https://huggingface.co/stabilityai/sd-vae-ft-mse-original/resolve/main/vae-ft-mse-840000-ema-pruned.ckpt -O v1-5-pruned-emaonly.vae.pt \n",
    "\n"
   ]
  },
  {
   "cell_type": "markdown",
   "metadata": {
    "jp-MarkdownHeadingCollapsed": true,
    "tags": []
   },
   "source": [
    "###  Optional: Download waifu division model and VAE\n",
    "\n",
    "From https://huggingface.co/hakurei/waifu-diffusion-v1-4"
   ]
  },
  {
   "cell_type": "code",
   "execution_count": null,
   "metadata": {},
   "outputs": [],
   "source": [
    "%cd ~/sagemaker-studiolab-notebooks/stable-diffusion-webui/models/Stable-diffusion/\n",
    "!wget --header={user_header} https://huggingface.co/hakurei/waifu-diffusion-v1-4/resolve/main/models/wd-1-3-penultimate-ucg-cont.ckpt\n",
    "\n",
    "%cd ~/sagemaker-studiolab-notebooks/stable-diffusion-webui/models/VAE/\n",
    "!wget --header={user_header} https://huggingface.co/hakurei/waifu-diffusion-v1-4/resolve/main/vae/kl-f8-anime.ckpt\n",
    "!wget --header={user_header} https://huggingface.co/hakurei/waifu-diffusion-v1-4/resolve/main/vae/kl-f8-anime2.ckpt"
   ]
  },
  {
   "cell_type": "markdown",
   "metadata": {
    "jp-MarkdownHeadingCollapsed": true,
    "tags": []
   },
   "source": [
    "### Optional: Download a model from Google Drive"
   ]
  },
  {
   "cell_type": "markdown",
   "metadata": {},
   "source": [
    "Copy the file ID from your url and paste it into the GOOGLE_FILE_ID variable below, before running this cell"
   ]
  },
  {
   "cell_type": "code",
   "execution_count": null,
   "metadata": {},
   "outputs": [],
   "source": [
    "%pip install gdown"
   ]
  },
  {
   "cell_type": "code",
   "execution_count": null,
   "metadata": {},
   "outputs": [],
   "source": [
    "###########################################################\n",
    "GOOGLE_FILE_ID = \"1wHFgl0ivCmIZv88hVZXkb8oy9qCuaBGA\"\n",
    "###########################################################\n",
    "\n",
    "# above file ID is Stable Diffusion model 1.4. Replace it with the file ID of the model you want to download from Google Drive\n",
    "\n",
    "import gdown\n",
    "\n",
    "%cd /content/stable-diffusion-webui/models/Stable-diffusion/\n",
    "url = \"https://drive.google.com/u/0/uc?id=\" + GOOGLE_FILE_ID + \"&export=download&confirm=t\"\n",
    "print(\"Downloading \" + url)\n",
    "gdown.download(url)\n"
   ]
  },
  {
   "cell_type": "markdown",
   "metadata": {
    "jp-MarkdownHeadingCollapsed": true,
    "tags": []
   },
   "source": [
    "### Optional: Download a model from MEGA"
   ]
  },
  {
   "cell_type": "code",
   "execution_count": null,
   "metadata": {},
   "outputs": [],
   "source": [
    "Change MEGA_DOWNLOAD_URL to the URL of the model, then run the cell\n",
    "\n",
    "Download can be very slow (>30 minutes for a 4GB model)"
   ]
  },
  {
   "cell_type": "code",
   "execution_count": null,
   "metadata": {},
   "outputs": [],
   "source": [
    "##########################################################\n",
    "MEGA_DOWNLOAD_URL = \"https://mega.nz/file/mdcVARhL#FUq5TL2xp7FuzzgMS4B20sOYYnPZsyPMw93sPMHeQ78\"\n",
    "##########################################################\n",
    "\n",
    "%cd ~/sagemaker-studiolab-notebooks/stable-diffusion-webui/models/Stable-diffusion/\n",
    "\n",
    "%pip install mega.py\n",
    "from mega import Mega\n",
    "\n",
    "mega = Mega()\n",
    "print(\"Connecting to MEGA\")\n",
    "m = mega.login()\n",
    "print(\"Downloading file (no progress display available)\")\n",
    "m.download_url(MEGA_DOWNLOAD_URL)\n",
    "print(\"Download complete\")"
   ]
  },
  {
   "cell_type": "markdown",
   "metadata": {},
   "source": [
    "# Installation: Uninstall opencv-python to prevent libgthread error when starting webui\n",
    "\n",
    "***You only need to do this once on your SageMaker SL account***\n",
    "\n",
    "This section is a unnecessary mess, but it works. It may be enough to just run the !conda install part. Did not test it yet, as I'd have to create a new account for that\n",
    "\n",
    "Not running this section will lead to libgthread-2.0.so.0 errors when starting the webui"
   ]
  },
  {
   "cell_type": "code",
   "execution_count": null,
   "metadata": {},
   "outputs": [],
   "source": [
    "%pip uninstall opencv-python -y\n",
    "%pip install opencv-python-headless"
   ]
  },
  {
   "cell_type": "code",
   "execution_count": null,
   "metadata": {},
   "outputs": [],
   "source": [
    "# this will restart the kernel\n",
    "exit()"
   ]
  },
  {
   "cell_type": "code",
   "execution_count": null,
   "metadata": {},
   "outputs": [],
   "source": [
    "%pip uninstall opencv-python-headless -y"
   ]
  },
  {
   "cell_type": "code",
   "execution_count": null,
   "metadata": {},
   "outputs": [],
   "source": [
    "!conda install glib=2.51.0 -y"
   ]
  },
  {
   "cell_type": "markdown",
   "metadata": {
    "id": "S8nvm5f6AfaL"
   },
   "source": [
    "# Update: Change into Web UI directory and download updates\n",
    "This is not strictly necessary. You can run this every time before you start the webui"
   ]
  },
  {
   "cell_type": "code",
   "execution_count": null,
   "metadata": {},
   "outputs": [],
   "source": [
    "%cd ~/sagemaker-studiolab-notebooks/stable-diffusion-webui\n",
    "!git pull"
   ]
  },
  {
   "cell_type": "markdown",
   "metadata": {},
   "source": [
    "## Update: Install webui requirements.txt\n",
    "This is necessary sometimes after you did a !git pull above"
   ]
  },
  {
   "cell_type": "code",
   "execution_count": null,
   "metadata": {},
   "outputs": [],
   "source": [
    "%cd ~/sagemaker-studiolab-notebooks/stable-diffusion-webui\n",
    "%pip install -r requirements.txt"
   ]
  },
  {
   "cell_type": "markdown",
   "metadata": {},
   "source": [
    "# Run: Enter ngrok auth token\n"
   ]
  },
  {
   "cell_type": "code",
   "execution_count": null,
   "metadata": {},
   "outputs": [],
   "source": [
    "import ipywidgets as widgets\n",
    "\n",
    "ngrok_token_textbox = widgets.Text(\n",
    "    value='Enter ngrok auth token here',\n",
    "    description='Token:',\n",
    ")\n",
    "ngrok_token_textbox"
   ]
  },
  {
   "cell_type": "markdown",
   "metadata": {
    "id": "xt8lbdmC04ox"
   },
   "source": [
    "# Run: Launch web ui\n",
    "\n",
    "You will get a ngrok.io link. Follow it and enter the username and password shown below. You may want to change username and password for security reasons."
   ]
  },
  {
   "cell_type": "code",
   "execution_count": null,
   "metadata": {
    "id": "R-xAdMA5wxXd"
   },
   "outputs": [],
   "source": [
    "##################################\n",
    "\n",
    "WEBUI_USERNAME=\"genius\"\n",
    "WEBUI_PASSWORD=\"artist\"\n",
    "\n",
    "##################################\n",
    "\n",
    "ARGS = \"\\\"--gradio-debug --gradio-auth \" + WEBUI_USERNAME + \":\" + WEBUI_PASSWORD + \" --ngrok \" + ngrok_token_textbox.value + \"\\\"\"\n",
    "#ARGS = \"\\\"--gradio-debug --gradio-auth \" + WEBUI_USERNAME + \":\" + WEBUI_PASSWORD + \" --share\\\"\"\n",
    "\n",
    "%cd ~/sagemaker-studiolab-notebooks/stable-diffusion-webui\n",
    "!COMMANDLINE_ARGS=$ARGS REQS_FILE=\"requirements.txt\" python launch.py\n"
   ]
  },
  {
   "cell_type": "markdown",
   "metadata": {},
   "source": [
    "Commandline arguments are:\n",
    "  - `--share` - create online gradio.app link (currently this doesn't work on SageMaker SL)\n",
    "  - `--gradio-debug` - print outputs to console\n",
    "  - `--ngrok` - start ngrok reverse proxy with supplied auth token"
   ]
  },
  {
   "cell_type": "markdown",
   "metadata": {
    "id": "9qrpRUJpno7L",
    "tags": []
   },
   "source": [
    "End: Commands for ***after*** you have gotten done with a session\n",
    "============================================================================\n",
    "Click the square stop button before running these cells"
   ]
  },
  {
   "cell_type": "markdown",
   "metadata": {
    "id": "zB-L8JpElKp-"
   },
   "source": [
    "### Create .tar.gz archive of images for downloading \n",
    "\n",
    "Location will be ***~/sagemaker-studiolab-notebooks/outputs.tar.gz***"
   ]
  },
  {
   "cell_type": "code",
   "execution_count": null,
   "metadata": {},
   "outputs": [],
   "source": [
    "%cd ~/sagemaker-studiolab-notebooks/stable-diffusion-webui/\n",
    "!echo \"Creating archive. Please wait...\"\n",
    "!tar -czf ~/sagemaker-studiolab-notebooks/outputs.tar.gz outputs\n",
    "!echo \"You can now delete the generated images and download the archive\""
   ]
  },
  {
   "cell_type": "markdown",
   "metadata": {
    "id": "zB-L8JpElKp-"
   },
   "source": [
    "### Delete generated images from outputs folder"
   ]
  },
  {
   "cell_type": "code",
   "execution_count": null,
   "metadata": {},
   "outputs": [],
   "source": [
    "!rm -rf ~/sagemaker-studiolab-notebooks/stable-diffusion-webui/outputs/*"
   ]
  },
  {
   "cell_type": "markdown",
   "metadata": {
    "id": "zB-L8JpElKp-"
   },
   "source": [
    "### Restart kernel and delete logfile (this kills webui and ngrok)"
   ]
  },
  {
   "cell_type": "code",
   "execution_count": null,
   "metadata": {},
   "outputs": [],
   "source": [
    "!rm ~/sagemaker-studiolab-notebooks/ngrok/ngrok.log\n",
    "exit()"
   ]
  }
 ],
 "metadata": {
  "accelerator": "GPU",
  "colab": {
   "collapsed_sections": [
    "9qrpRUJpno7L"
   ],
   "provenance": []
  },
  "gpuClass": "standard",
  "kernelspec": {
   "display_name": "default:Python",
   "language": "python",
   "name": "conda-env-default-py"
  },
  "language_info": {
   "codemirror_mode": {
    "name": "ipython",
    "version": 3
   },
   "file_extension": ".py",
   "mimetype": "text/x-python",
   "name": "python",
   "nbconvert_exporter": "python",
   "pygments_lexer": "ipython3",
   "version": "3.9.13"
  }
 },
 "nbformat": 4,
 "nbformat_minor": 4
}
